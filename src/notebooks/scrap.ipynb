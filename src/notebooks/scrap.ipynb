{
 "cells": [
  {
   "cell_type": "code",
   "execution_count": 5,
   "metadata": {},
   "outputs": [],
   "source": [
    "import torch\n",
    "import torch.nn as nn\n",
    "import torch.nn.functional as F\n",
    "import torch.optim as optim\n",
    "import numpy as np\n",
    "import random\n",
    "import time\n",
    "import os\n",
    "from PIL import Image\n",
    "from tqdm import tqdm\n",
    "import matplotlib.pyplot as plt\n",
    "import pandas as pd"
   ]
  },
  {
   "cell_type": "code",
   "execution_count": 2,
   "metadata": {},
   "outputs": [
    {
     "name": "stderr",
     "output_type": "stream",
     "text": [
      "100%|██████████| 3554/3554 [00:04<00:00, 722.49it/s]\n"
     ]
    }
   ],
   "source": [
    "# load data (png files) to numpy arrays\n",
    "data_path = '../../data/slices_segmentate_png'\n",
    "csv_path = '../../data/annotations.csv'\n",
    "data = []\n",
    "annotations = pd.read_csv(csv_path)\n",
    "\n",
    "for item in tqdm(annotations.iterrows()):\n",
    "    image = Image.open(os.path.join(data_path, filename))\n",
    "    data.append(np.array(image))  \n",
    "\n",
    "data = np.array(data)"
   ]
  },
  {
   "cell_type": "code",
   "execution_count": 6,
   "metadata": {},
   "outputs": [],
   "source": [
    "# read csv file\n"
   ]
  },
  {
   "cell_type": "code",
   "execution_count": 12,
   "metadata": {},
   "outputs": [
    {
     "data": {
      "text/html": [
       "<div>\n",
       "<style scoped>\n",
       "    .dataframe tbody tr th:only-of-type {\n",
       "        vertical-align: middle;\n",
       "    }\n",
       "\n",
       "    .dataframe tbody tr th {\n",
       "        vertical-align: top;\n",
       "    }\n",
       "\n",
       "    .dataframe thead th {\n",
       "        text-align: right;\n",
       "    }\n",
       "</style>\n",
       "<table border=\"1\" class=\"dataframe\">\n",
       "  <thead>\n",
       "    <tr style=\"text-align: right;\">\n",
       "      <th></th>\n",
       "      <th>pid</th>\n",
       "      <th>dcm_series</th>\n",
       "      <th>uid_slice</th>\n",
       "      <th>x</th>\n",
       "      <th>y</th>\n",
       "      <th>width</th>\n",
       "      <th>height</th>\n",
       "    </tr>\n",
       "  </thead>\n",
       "  <tbody>\n",
       "    <tr>\n",
       "      <th>0</th>\n",
       "      <td>100242</td>\n",
       "      <td>1.2.840.113654.2.55.38995485391900019876570761...</td>\n",
       "      <td>1.2.840.113654.2.55.27516043901205007432317083...</td>\n",
       "      <td>89</td>\n",
       "      <td>158</td>\n",
       "      <td>23</td>\n",
       "      <td>21</td>\n",
       "    </tr>\n",
       "    <tr>\n",
       "      <th>1</th>\n",
       "      <td>100242</td>\n",
       "      <td>1.2.840.113654.2.55.38995485391900019876570761...</td>\n",
       "      <td>1.2.840.113654.2.55.98336108916096429974899588...</td>\n",
       "      <td>83</td>\n",
       "      <td>159</td>\n",
       "      <td>26</td>\n",
       "      <td>22</td>\n",
       "    </tr>\n",
       "    <tr>\n",
       "      <th>2</th>\n",
       "      <td>100242</td>\n",
       "      <td>1.2.840.113654.2.55.38995485391900019876570761...</td>\n",
       "      <td>1.2.840.113654.2.55.28097281540164891590337477...</td>\n",
       "      <td>72</td>\n",
       "      <td>304</td>\n",
       "      <td>29</td>\n",
       "      <td>27</td>\n",
       "    </tr>\n",
       "    <tr>\n",
       "      <th>3</th>\n",
       "      <td>100242</td>\n",
       "      <td>1.2.840.113654.2.55.38995485391900019876570761...</td>\n",
       "      <td>1.2.840.113654.2.55.24791760535415696414038245...</td>\n",
       "      <td>69</td>\n",
       "      <td>297</td>\n",
       "      <td>39</td>\n",
       "      <td>37</td>\n",
       "    </tr>\n",
       "    <tr>\n",
       "      <th>4</th>\n",
       "      <td>100242</td>\n",
       "      <td>1.2.840.113654.2.55.38995485391900019876570761...</td>\n",
       "      <td>1.2.840.113654.2.55.23793008515026704674351422...</td>\n",
       "      <td>300</td>\n",
       "      <td>357</td>\n",
       "      <td>35</td>\n",
       "      <td>26</td>\n",
       "    </tr>\n",
       "    <tr>\n",
       "      <th>...</th>\n",
       "      <td>...</td>\n",
       "      <td>...</td>\n",
       "      <td>...</td>\n",
       "      <td>...</td>\n",
       "      <td>...</td>\n",
       "      <td>...</td>\n",
       "      <td>...</td>\n",
       "    </tr>\n",
       "    <tr>\n",
       "      <th>9275</th>\n",
       "      <td>213544</td>\n",
       "      <td>1.3.6.1.4.1.14519.5.2.1.7009.9004.979854419582...</td>\n",
       "      <td>1.3.6.1.4.1.14519.5.2.1.7009.9004.214373978524...</td>\n",
       "      <td>344</td>\n",
       "      <td>272</td>\n",
       "      <td>33</td>\n",
       "      <td>32</td>\n",
       "    </tr>\n",
       "    <tr>\n",
       "      <th>9276</th>\n",
       "      <td>213544</td>\n",
       "      <td>1.3.6.1.4.1.14519.5.2.1.7009.9004.979854419582...</td>\n",
       "      <td>1.3.6.1.4.1.14519.5.2.1.7009.9004.301424642959...</td>\n",
       "      <td>345</td>\n",
       "      <td>272</td>\n",
       "      <td>34</td>\n",
       "      <td>32</td>\n",
       "    </tr>\n",
       "    <tr>\n",
       "      <th>9277</th>\n",
       "      <td>213544</td>\n",
       "      <td>1.3.6.1.4.1.14519.5.2.1.7009.9004.979854419582...</td>\n",
       "      <td>1.3.6.1.4.1.14519.5.2.1.7009.9004.804724210742...</td>\n",
       "      <td>345</td>\n",
       "      <td>271</td>\n",
       "      <td>34</td>\n",
       "      <td>33</td>\n",
       "    </tr>\n",
       "    <tr>\n",
       "      <th>9278</th>\n",
       "      <td>213544</td>\n",
       "      <td>1.3.6.1.4.1.14519.5.2.1.7009.9004.979854419582...</td>\n",
       "      <td>1.3.6.1.4.1.14519.5.2.1.7009.9004.138795088397...</td>\n",
       "      <td>345</td>\n",
       "      <td>270</td>\n",
       "      <td>34</td>\n",
       "      <td>33</td>\n",
       "    </tr>\n",
       "    <tr>\n",
       "      <th>9279</th>\n",
       "      <td>213544</td>\n",
       "      <td>1.3.6.1.4.1.14519.5.2.1.7009.9004.979854419582...</td>\n",
       "      <td>1.3.6.1.4.1.14519.5.2.1.7009.9004.285099825895...</td>\n",
       "      <td>346</td>\n",
       "      <td>270</td>\n",
       "      <td>34</td>\n",
       "      <td>33</td>\n",
       "    </tr>\n",
       "  </tbody>\n",
       "</table>\n",
       "<p>9280 rows × 7 columns</p>\n",
       "</div>"
      ],
      "text/plain": [
       "         pid                                         dcm_series  \\\n",
       "0     100242  1.2.840.113654.2.55.38995485391900019876570761...   \n",
       "1     100242  1.2.840.113654.2.55.38995485391900019876570761...   \n",
       "2     100242  1.2.840.113654.2.55.38995485391900019876570761...   \n",
       "3     100242  1.2.840.113654.2.55.38995485391900019876570761...   \n",
       "4     100242  1.2.840.113654.2.55.38995485391900019876570761...   \n",
       "...      ...                                                ...   \n",
       "9275  213544  1.3.6.1.4.1.14519.5.2.1.7009.9004.979854419582...   \n",
       "9276  213544  1.3.6.1.4.1.14519.5.2.1.7009.9004.979854419582...   \n",
       "9277  213544  1.3.6.1.4.1.14519.5.2.1.7009.9004.979854419582...   \n",
       "9278  213544  1.3.6.1.4.1.14519.5.2.1.7009.9004.979854419582...   \n",
       "9279  213544  1.3.6.1.4.1.14519.5.2.1.7009.9004.979854419582...   \n",
       "\n",
       "                                              uid_slice    x    y  width  \\\n",
       "0     1.2.840.113654.2.55.27516043901205007432317083...   89  158     23   \n",
       "1     1.2.840.113654.2.55.98336108916096429974899588...   83  159     26   \n",
       "2     1.2.840.113654.2.55.28097281540164891590337477...   72  304     29   \n",
       "3     1.2.840.113654.2.55.24791760535415696414038245...   69  297     39   \n",
       "4     1.2.840.113654.2.55.23793008515026704674351422...  300  357     35   \n",
       "...                                                 ...  ...  ...    ...   \n",
       "9275  1.3.6.1.4.1.14519.5.2.1.7009.9004.214373978524...  344  272     33   \n",
       "9276  1.3.6.1.4.1.14519.5.2.1.7009.9004.301424642959...  345  272     34   \n",
       "9277  1.3.6.1.4.1.14519.5.2.1.7009.9004.804724210742...  345  271     34   \n",
       "9278  1.3.6.1.4.1.14519.5.2.1.7009.9004.138795088397...  345  270     34   \n",
       "9279  1.3.6.1.4.1.14519.5.2.1.7009.9004.285099825895...  346  270     34   \n",
       "\n",
       "      height  \n",
       "0         21  \n",
       "1         22  \n",
       "2         27  \n",
       "3         37  \n",
       "4         26  \n",
       "...      ...  \n",
       "9275      32  \n",
       "9276      32  \n",
       "9277      33  \n",
       "9278      33  \n",
       "9279      33  \n",
       "\n",
       "[9280 rows x 7 columns]"
      ]
     },
     "execution_count": 12,
     "metadata": {},
     "output_type": "execute_result"
    }
   ],
   "source": [
    "annotations.head()\n",
    "annotations"
   ]
  },
  {
   "cell_type": "code",
   "execution_count": 11,
   "metadata": {},
   "outputs": [
    {
     "data": {
      "text/plain": [
       "array([[100242,\n",
       "        '1.2.840.113654.2.55.38995485391900019876570761037952058249',\n",
       "        '1.2.840.113654.2.55.275160439012050074323170831804208812984',\n",
       "        ..., 158, 23, 21],\n",
       "       [100242,\n",
       "        '1.2.840.113654.2.55.38995485391900019876570761037952058249',\n",
       "        '1.2.840.113654.2.55.98336108916096429974899588868734477535',\n",
       "        ..., 159, 26, 22],\n",
       "       [100242,\n",
       "        '1.2.840.113654.2.55.38995485391900019876570761037952058249',\n",
       "        '1.2.840.113654.2.55.280972815401648915903374779039953078123',\n",
       "        ..., 304, 29, 27],\n",
       "       ...,\n",
       "       [213544,\n",
       "        '1.3.6.1.4.1.14519.5.2.1.7009.9004.979854419582121445438454522940',\n",
       "        '1.3.6.1.4.1.14519.5.2.1.7009.9004.804724210742103651174088683109',\n",
       "        ..., 271, 34, 33],\n",
       "       [213544,\n",
       "        '1.3.6.1.4.1.14519.5.2.1.7009.9004.979854419582121445438454522940',\n",
       "        '1.3.6.1.4.1.14519.5.2.1.7009.9004.138795088397222401111710080814',\n",
       "        ..., 270, 34, 33],\n",
       "       [213544,\n",
       "        '1.3.6.1.4.1.14519.5.2.1.7009.9004.979854419582121445438454522940',\n",
       "        '1.3.6.1.4.1.14519.5.2.1.7009.9004.285099825895860901256932853950',\n",
       "        ..., 270, 34, 33]], dtype=object)"
      ]
     },
     "execution_count": 11,
     "metadata": {},
     "output_type": "execute_result"
    }
   ],
   "source": [
    "anp"
   ]
  },
  {
   "cell_type": "code",
   "execution_count": 20,
   "metadata": {},
   "outputs": [
    {
     "name": "stdout",
     "output_type": "stream",
     "text": [
      "Data size in RAM: 888.5 MB\n"
     ]
    }
   ],
   "source": [
    "# show size of data in RAM\n",
    "print('Data size in RAM:', data.nbytes / 1024**2, 'MB')"
   ]
  },
  {
   "cell_type": "code",
   "execution_count": 24,
   "metadata": {},
   "outputs": [
    {
     "name": "stdout",
     "output_type": "stream",
     "text": [
      "Image shape: (512, 512)\n"
     ]
    },
    {
     "data": {
      "image/png": "[encoded data removed]",
      "text/plain": [
       "<Figure size 640x480 with 1 Axes>"
      ]
     },
     "metadata": {},
     "output_type": "display_data"
    }
   ],
   "source": [
    "# single element shape\n",
    "print(f\"Image shape: {data[0].shape}\")\n",
    "plt.imshow(data[0], cmap='gray')\n",
    "plt.axis('off')\n",
    "plt.show()"
   ]
  }
 ],
 "metadata": {
  "kernelspec": {
   "display_name": "Python 3",
   "language": "python",
   "name": "python3"
  },
  "language_info": {
   "codemirror_mode": {
    "name": "ipython",
    "version": 3
   },
   "file_extension": ".py",
   "mimetype": "text/x-python",
   "name": "python",
   "nbconvert_exporter": "python",
   "pygments_lexer": "ipython3",
   "version": "3.10.12"
  }
 },
 "nbformat": 4,
 "nbformat_minor": 2
}
